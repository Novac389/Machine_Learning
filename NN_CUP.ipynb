{
 "cells": [
  {
   "cell_type": "code",
   "execution_count": 7,
   "id": "b59125b0-d73c-4dc7-81f0-b9e8401ef4c3",
   "metadata": {
    "execution": {
     "iopub.execute_input": "2024-06-29T20:24:29.890437Z",
     "iopub.status.busy": "2024-06-29T20:24:29.889436Z",
     "iopub.status.idle": "2024-06-29T20:24:30.736279Z",
     "shell.execute_reply": "2024-06-29T20:24:30.736279Z",
     "shell.execute_reply.started": "2024-06-29T20:24:29.890437Z"
    }
   },
   "outputs": [
    {
     "name": "stdout",
     "output_type": "stream",
     "text": [
      "The autoreload extension is already loaded. To reload it, use:\n",
      "  %reload_ext autoreload\n"
     ]
    }
   ],
   "source": [
    "%load_ext autoreload\n",
    "%autoreload 2\n",
    "from neural import Neural\n",
    "from utilities import evaluate_model_parallel, plot_TR_VAL, train_and_evaluate, plot_compare, mee\n",
    "import numpy as np\n",
    "import pandas as pd\n",
    "from sklearn.model_selection import train_test_split\n",
    "from sklearn.metrics import mean_squared_error\n",
    "from sklearn.model_selection import RepeatedKFold\n",
    "from numpy import mean, std"
   ]
  },
  {
   "cell_type": "markdown",
   "id": "aa9f4954-327a-4d57-b110-8e5594959cdb",
   "metadata": {},
   "source": [
    "## CUP dataset loading"
   ]
  },
  {
   "cell_type": "code",
   "execution_count": 8,
   "id": "96864706-fd53-4260-8734-b8577654f306",
   "metadata": {
    "execution": {
     "iopub.execute_input": "2024-06-29T20:24:30.893435Z",
     "iopub.status.busy": "2024-06-29T20:24:30.893435Z",
     "iopub.status.idle": "2024-06-29T20:24:30.960502Z",
     "shell.execute_reply": "2024-06-29T20:24:30.960502Z",
     "shell.execute_reply.started": "2024-06-29T20:24:30.893435Z"
    }
   },
   "outputs": [],
   "source": [
    "names=[\"ID\", \"INPUT1\", \"INPUT2\", \"INPUT3\", \"INPUT4\", \"INPUT5\", \"INPUT6\", \"INPUT7\", \"INPUT8\", \"INPUT9\", \"INPUT10\", \"TARGET_x\", \"TARGET_y\", \"TARGET_z\"]\n",
    "df = pd.read_csv(\"CUP/ML-CUP23-TR.csv\", skiprows=7, sep=\",\", names=names)\n",
    "\n",
    "X = df.iloc[:, 1:11].to_numpy()\n",
    "y = df.iloc[:, -3:].to_numpy()\n",
    "\n",
    "X_train, X_test, y_train, y_test = train_test_split(X, y, test_size=0.2)"
   ]
  },
  {
   "cell_type": "markdown",
   "id": "8dd521c2-3c20-444d-a736-94f899923381",
   "metadata": {},
   "source": [
    "## Grid search"
   ]
  },
  {
   "cell_type": "markdown",
   "id": "cf1ad210-933a-492b-8283-45b95e96cca0",
   "metadata": {},
   "source": [
    "### Parameter Grid"
   ]
  },
  {
   "cell_type": "code",
   "execution_count": 7,
   "id": "f1b7876e-dba3-41fc-8b4a-2b52f0c199bf",
   "metadata": {
    "execution": {
     "iopub.execute_input": "2024-06-29T20:32:07.329146Z",
     "iopub.status.busy": "2024-06-29T20:32:07.329146Z",
     "iopub.status.idle": "2024-06-29T20:32:07.414231Z",
     "shell.execute_reply": "2024-06-29T20:32:07.414231Z",
     "shell.execute_reply.started": "2024-06-29T20:32:07.329146Z"
    },
    "scrolled": true
   },
   "outputs": [
    {
     "data": {
      "text/plain": [
       "648"
      ]
     },
     "execution_count": 7,
     "metadata": {},
     "output_type": "execute_result"
    }
   ],
   "source": [
    "param_grid = {\n",
    "    'layer_structure': [\n",
    "        [X_train.shape[1], 10,20,10, y_train.shape[1]],\n",
    "        [X_train.shape[1], 32,64,32, y_train.shape[1]]\n",
    "    ],\n",
    "    'epochs': [512],\n",
    "    'batch_size': [16,32, 64],\n",
    "    'learning_rate': [0.1, 0.01, 0.001],\n",
    "    'optimizer':['nesterov'],\n",
    "    'momentum': [0.98, 0.95, 0.90, 0.0],\n",
    "    'l2_lambda': [0, 0.001, 0.0001],\n",
    "    'hidden_function': ['sigmoid', 'relu', 'tanh'],\n",
    "    'output_function' :['linear'],\n",
    "    'init_method': ['he'],\n",
    "    'momentum_schedule': [True,False]\n",
    "}\n",
    "import itertools\n",
    "keys, values = zip(*param_grid.items())\n",
    "permutations_dicts = [dict(zip(keys, v)) for v in itertools.product(*values)]\n",
    "\n",
    "permutations_dicts = [\n",
    "    d for d in permutations_dicts \n",
    "    if not (\n",
    "        (d['optimizer'] == 'adam' and d['momentum'] > 0) or\n",
    "        (d['optimizer'] == 'nesterov' and d['momentum'] == 0 and not d['momentum_schedule']) or\n",
    "        (d['optimizer'] == 'adam' and d['momentum_schedule']) or\n",
    "        (d['optimizer'] == 'nesterov' and d['momentum_schedule'] and d['momentum'] > 0)\n",
    "    )\n",
    "]\n",
    "len(permutations_dicts)"
   ]
  },
  {
   "cell_type": "markdown",
   "id": "7823be22-0b81-4f49-861f-b5054751f30c",
   "metadata": {},
   "source": [
    "### Parallel grid search"
   ]
  },
  {
   "cell_type": "code",
   "execution_count": null,
   "id": "9d8b5ec9-9280-4d17-9511-ea8114512883",
   "metadata": {
    "execution": {
     "iopub.execute_input": "2024-06-29T20:32:21.686441Z",
     "iopub.status.busy": "2024-06-29T20:32:21.686441Z",
     "iopub.status.idle": "2024-06-29T21:16:45.424505Z",
     "shell.execute_reply": "2024-06-29T21:16:45.424505Z",
     "shell.execute_reply.started": "2024-06-29T20:32:21.686441Z"
    }
   },
   "outputs": [
    {
     "data": {
      "application/vnd.jupyter.widget-view+json": {
       "model_id": "a9749cde923c4335852ee92c0f1f409d",
       "version_major": 2,
       "version_minor": 0
      },
      "text/plain": [
       "Output()"
      ]
     },
     "metadata": {},
     "output_type": "display_data"
    }
   ],
   "source": [
    "from joblib import Parallel, delayed\n",
    "from joblib_progress import joblib_progress\n",
    "\n",
    "with joblib_progress(\"Grid search\", total=len(permutations_dicts)):\n",
    "    res=Parallel(n_jobs=-1)(delayed(evaluate_model_parallel)(Neural, param, X_train, y_train,n_folds=5,n_repeats=3) for param in permutations_dicts)"
   ]
  },
  {
   "cell_type": "markdown",
   "id": "36c8d685-b227-4de9-a191-7aa3cc700dbc",
   "metadata": {},
   "source": [
    "### Best hyperparameters"
   ]
  },
  {
   "cell_type": "code",
   "execution_count": 84,
   "id": "bac3c4fd-bd77-4c33-baa5-04cb22cdc097",
   "metadata": {
    "execution": {
     "iopub.execute_input": "2024-06-29T22:33:10.448327Z",
     "iopub.status.busy": "2024-06-29T22:33:10.448327Z",
     "iopub.status.idle": "2024-06-29T22:33:10.528401Z",
     "shell.execute_reply": "2024-06-29T22:33:10.528401Z",
     "shell.execute_reply.started": "2024-06-29T22:33:10.448327Z"
    },
    "scrolled": false
   },
   "outputs": [
    {
     "data": {
      "text/plain": [
       "[{'layer_structure': [10, 32, 64, 32, 3],\n",
       "  'epochs': 512,\n",
       "  'batch_size': 64,\n",
       "  'learning_rate': 0.005,\n",
       "  'optimizer': 'nesterov',\n",
       "  'momentum': 0,\n",
       "  'l2_lambda': 0.001,\n",
       "  'hidden_function': 'sigmoid',\n",
       "  'output_function': 'linear',\n",
       "  'init_method': 'he',\n",
       "  'momentum_schedule': True},\n",
       " [0.1693809521015609,\n",
       "  0.39784821878906973,\n",
       "  0.1680950618502645,\n",
       "  0.26476244372539864,\n",
       "  0.2739259775965784,\n",
       "  0.22286445941230812,\n",
       "  0.21583075521598363,\n",
       "  0.15147185987193487,\n",
       "  0.18557650008539586,\n",
       "  0.3687977733282031,\n",
       "  0.25399076095044926,\n",
       "  0.21260073388495349,\n",
       "  0.2923524985653025,\n",
       "  0.2543460506411581,\n",
       "  0.24750829543553557,\n",
       "  0.13029631556606247,\n",
       "  0.17053723911006813,\n",
       "  0.1959202604394267,\n",
       "  0.2881703318373818,\n",
       "  0.16058990468202056]]"
      ]
     },
     "execution_count": 84,
     "metadata": {},
     "output_type": "execute_result"
    }
   ],
   "source": [
    "best_mse = float(\"inf\")\n",
    "best_res = []\n",
    "for r in res:\n",
    "    if mean(r[1])<best_mse:\n",
    "        best_mse = mean(r[1])\n",
    "        best_res = r\n",
    "best_res"
   ]
  },
  {
   "cell_type": "markdown",
   "id": "e42d05a7-936c-40ff-b884-e395d7bfdf2f",
   "metadata": {},
   "source": [
    "### BEST MODEL FOUND"
   ]
  },
  {
   "cell_type": "code",
   "execution_count": 8,
   "id": "370440d3-965c-4c03-9bdf-5cbef210462b",
   "metadata": {
    "execution": {
     "iopub.execute_input": "2024-06-29T22:34:13.515283Z",
     "iopub.status.busy": "2024-06-29T22:34:13.515283Z",
     "iopub.status.idle": "2024-06-29T22:34:13.590352Z",
     "shell.execute_reply": "2024-06-29T22:34:13.590352Z",
     "shell.execute_reply.started": "2024-06-29T22:34:13.515283Z"
    }
   },
   "outputs": [],
   "source": [
    "best_result = {'layer_structure': [10, 32, 64, 32, 3],\n",
    " 'epochs': 512,\n",
    " 'batch_size': 64,\n",
    " 'learning_rate': 0.005,\n",
    " 'optimizer': 'nesterov',\n",
    " 'momentum': 0.0,\n",
    " 'l2_lambda': 0.001,\n",
    " 'hidden_function': 'sigmoid',\n",
    " 'output_function': 'linear',\n",
    " 'init_method': 'he',\n",
    " 'momentum_schedule': True}"
   ]
  },
  {
   "cell_type": "code",
   "execution_count": 9,
   "id": "df55cad3-5040-4e24-99a2-e40d4b2dc66a",
   "metadata": {
    "execution": {
     "iopub.execute_input": "2024-06-29T22:34:47.139183Z",
     "iopub.status.busy": "2024-06-29T22:34:47.138182Z",
     "iopub.status.idle": "2024-06-29T22:34:50.139940Z",
     "shell.execute_reply": "2024-06-29T22:34:50.139940Z",
     "shell.execute_reply.started": "2024-06-29T22:34:47.139183Z"
    },
    "scrolled": true
   },
   "outputs": [
    {
     "name": "stdout",
     "output_type": "stream",
     "text": [
      "train error: 0.03527742831788436\n",
      "Test error: 0.28691876203963046\n"
     ]
    }
   ],
   "source": [
    "#nn.reset()\n",
    "\n",
    "nn = Neural(best_result['layer_structure'], \n",
    "            epochs = best_result['epochs'], \n",
    "            batch_size = best_result['batch_size'],\n",
    "            learning_rate = best_result['learning_rate'],\n",
    "            hidden_function = best_result['hidden_function'],\n",
    "            output_function = best_result['output_function'],\n",
    "            init_method = best_result['init_method'],\n",
    "            optimizer=best_result['optimizer'],\n",
    "            momentum = best_result['momentum'],\n",
    "            l2_lambda = best_result['l2_lambda'],\n",
    "            momentum_schedule = best_result['momentum_schedule'],\n",
    "            early_stopping=True,\n",
    "            patience=10,\n",
    "            verbose=0)\n",
    "nn.fit(X_train,y_train)\n",
    "print(f\"train error: {mean_squared_error(nn.predict(X_train),y_train)}\")\n",
    "print(f\"Test error: {mean_squared_error(nn.predict(X_test),y_test)}\")"
   ]
  },
  {
   "cell_type": "code",
   "execution_count": 10,
   "id": "75d6bfc9-74f1-43cb-afc7-f7f32a2b2b69",
   "metadata": {
    "execution": {
     "iopub.execute_input": "2024-06-29T22:35:05.496051Z",
     "iopub.status.busy": "2024-06-29T22:35:05.495051Z",
     "iopub.status.idle": "2024-06-29T22:35:05.683224Z",
     "shell.execute_reply": "2024-06-29T22:35:05.683224Z",
     "shell.execute_reply.started": "2024-06-29T22:35:05.495051Z"
    }
   },
   "outputs": [
    {
     "data": {
      "image/png": "[encoded data removed]",
      "text/plain": [
       "<Figure size 500x300 with 1 Axes>"
      ]
     },
     "metadata": {},
     "output_type": "display_data"
    },
    {
     "data": {
      "image/png": "[encoded data removed]",
      "text/plain": [
       "<Figure size 500x300 with 1 Axes>"
      ]
     },
     "metadata": {},
     "output_type": "display_data"
    },
    {
     "data": {
      "image/png": "[encoded data removed]",
      "text/plain": [
       "<Figure size 500x300 with 1 Axes>"
      ]
     },
     "metadata": {},
     "output_type": "display_data"
    }
   ],
   "source": [
    "plot_TR_VAL(nn, title='Loss Curve', zoom_factor=0, log_scale=False, figsize=(5,3))\n",
    "plot_TR_VAL(nn, title='Loss Curve (zoomed)', zoom_factor=5, log_scale=False, figsize=(5,3))\n",
    "plot_TR_VAL(nn, title='Loss Curve in log scale', zoom_factor=0, log_scale=True, figsize=(5,3))"
   ]
  },
  {
   "cell_type": "code",
   "execution_count": 26,
   "id": "1bc7c026",
   "metadata": {},
   "outputs": [
    {
     "name": "stdout",
     "output_type": "stream",
     "text": [
      "Mean Train Loss      Mean Test Loss       Std Train Loss       Std Test Loss       \n",
      "--------------------------------------------------------------------------------\n",
      "0.0556               0.2846               0.0232               0.0634              \n",
      "\n",
      "\n",
      "Mean Train MEE       Mean Test MEE        Std Train MEE        Std Test MEE        \n",
      "--------------------------------------------------------------------------------\n",
      "0.3207               0.6330               0.0619               0.0584              \n"
     ]
    }
   ],
   "source": [
    "#Check the robustness of the best model found\n",
    "\n",
    "train_and_evaluate(nn, X_train, y_train, X_test, y_test, n_iterations=20)"
   ]
  },
  {
   "cell_type": "code",
   "execution_count": null,
   "id": "701741ba",
   "metadata": {},
   "outputs": [],
   "source": []
  },
  {
   "cell_type": "code",
   "execution_count": null,
   "id": "023b1af0",
   "metadata": {},
   "outputs": [],
   "source": []
  },
  {
   "cell_type": "markdown",
   "id": "f29658db",
   "metadata": {},
   "source": [
    "# Generate the blind test labels"
   ]
  },
  {
   "cell_type": "code",
   "execution_count": 9,
   "id": "02a11229",
   "metadata": {},
   "outputs": [],
   "source": [
    "names=[\"ID\", \"INPUT1\", \"INPUT2\", \"INPUT3\", \"INPUT4\", \"INPUT5\", \"INPUT6\", \"INPUT7\", \"INPUT8\", \"INPUT9\", \"INPUT10\"]\n",
    "df_blind = pd.read_csv(\"CUP/ML-CUP23-TS.csv\", skiprows=7, sep=\",\", names=names)\n",
    "\n",
    "X_blind = df_blind.iloc[:, 1:11].to_numpy()"
   ]
  },
  {
   "cell_type": "code",
   "execution_count": 14,
   "id": "4f9ead29",
   "metadata": {},
   "outputs": [
    {
     "name": "stdout",
     "output_type": "stream",
     "text": [
      "train error: 0.04587394510320264\n",
      "Test error: 0.2194632574272176\n"
     ]
    }
   ],
   "source": [
    "best_result = {'layer_structure': [10, 32, 64, 32, 3],\n",
    " 'epochs': 512,\n",
    " 'batch_size': 64,\n",
    " 'learning_rate': 0.005,\n",
    " 'optimizer': 'nesterov',\n",
    " 'momentum': 0.0,\n",
    " 'l2_lambda': 0.001,\n",
    " 'hidden_function': 'sigmoid',\n",
    " 'output_function': 'linear',\n",
    " 'init_method': 'he',\n",
    " 'momentum_schedule': True}\n",
    "\n",
    "nn = Neural(best_result['layer_structure'], \n",
    "            epochs = best_result['epochs'], \n",
    "            batch_size = best_result['batch_size'],\n",
    "            learning_rate = best_result['learning_rate'],\n",
    "            hidden_function = best_result['hidden_function'],\n",
    "            output_function = best_result['output_function'],\n",
    "            init_method = best_result['init_method'],\n",
    "            optimizer=best_result['optimizer'],\n",
    "            momentum = best_result['momentum'],\n",
    "            l2_lambda = best_result['l2_lambda'],\n",
    "            momentum_schedule = best_result['momentum_schedule'],\n",
    "            early_stopping=True,\n",
    "            patience=10,\n",
    "            verbose=0)\n",
    "nn.fit(X_train,y_train)\n",
    "print(f\"train error: {mean_squared_error(nn.predict(X_train),y_train)}\")\n",
    "print(f\"Test error: {mean_squared_error(nn.predict(X_test),y_test)}\")"
   ]
  },
  {
   "cell_type": "code",
   "execution_count": 30,
   "id": "09fc5b29",
   "metadata": {},
   "outputs": [
    {
     "name": "stdout",
     "output_type": "stream",
     "text": [
      "File 'All'ultimo momentum_ML-CUP23-TS.csv' has been created successfully.\n"
     ]
    }
   ],
   "source": [
    "predictions = nn.predict(X_blind)\n",
    "header = [\n",
    "    \"# Michele Velardita, Paolo Andriani\",\n",
    "    \"# All'ultimo momentum\",\n",
    "    \"# ML-CUP23\",\n",
    "    \"# 08/07/2024\"\n",
    "]\n",
    "filename =  \"All'ultimo momentum_ML-CUP23-TS.csv\"\n",
    "\n",
    "with open(filename, 'w') as file:\n",
    "    for line in header:\n",
    "        file.write(line + '\\n')\n",
    "    \n",
    "    for i, prediction in enumerate(predictions, start=1):\n",
    "        line = f\"{i},{prediction[0]},{prediction[1]},{prediction[2]}\"\n",
    "        file.write(line + '\\n')\n",
    "\n",
    "print(f\"File '{filename}' has been created successfully.\")"
   ]
  }
 ],
 "metadata": {
  "kernelspec": {
   "display_name": "Python 3 (ipykernel)",
   "language": "python",
   "name": "python3"
  },
  "language_info": {
   "codemirror_mode": {
    "name": "ipython",
    "version": 3
   },
   "file_extension": ".py",
   "mimetype": "text/x-python",
   "name": "python",
   "nbconvert_exporter": "python",
   "pygments_lexer": "ipython3",
   "version": "3.9.16"
  }
 },
 "nbformat": 4,
 "nbformat_minor": 5
}
