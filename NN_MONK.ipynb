{
 "cells": [
  {
   "cell_type": "code",
   "execution_count": 6,
   "id": "b59125b0-d73c-4dc7-81f0-b9e8401ef4c3",
   "metadata": {
    "execution": {
     "iopub.execute_input": "2024-07-17T14:38:01.723044Z",
     "iopub.status.busy": "2024-07-17T14:38:01.722049Z",
     "iopub.status.idle": "2024-07-17T14:38:01.944145Z",
     "shell.execute_reply": "2024-07-17T14:38:01.944145Z",
     "shell.execute_reply.started": "2024-07-17T14:38:01.723044Z"
    }
   },
   "outputs": [
    {
     "name": "stdout",
     "output_type": "stream",
     "text": [
      "The autoreload extension is already loaded. To reload it, use:\n",
      "  %reload_ext autoreload\n"
     ]
    }
   ],
   "source": [
    "%load_ext autoreload\n",
    "%autoreload 2\n",
    "from neural import Neural\n",
    "from utilities import evaluate_model_parallel, plot_TR_VAL, train_and_evaluate\n",
    "\n",
    "import numpy as np\n",
    "import pandas as pd\n",
    "from sklearn.metrics import confusion_matrix\n",
    "from sklearn.metrics import mean_squared_error\n",
    "from numpy import mean, std\n",
    "from sklearn.preprocessing import StandardScaler\n",
    "from sklearn.preprocessing import MinMaxScaler\n",
    "from sklearn.preprocessing import OneHotEncoder\n",
    "import matplotlib.pyplot as plt\n",
    "import seaborn as sns\n",
    "\n",
    "from joblib import Parallel, delayed\n",
    "from joblib_progress import joblib_progress"
   ]
  },
  {
   "cell_type": "markdown",
   "id": "aa9f4954-327a-4d57-b110-8e5594959cdb",
   "metadata": {},
   "source": [
    "# Monk1 dataset loading"
   ]
  },
  {
   "cell_type": "code",
   "execution_count": 368,
   "id": "96864706-fd53-4260-8734-b8577654f306",
   "metadata": {
    "execution": {
     "iopub.execute_input": "2024-06-28T15:06:19.840150Z",
     "iopub.status.busy": "2024-06-28T15:06:19.840150Z",
     "iopub.status.idle": "2024-06-28T15:06:19.918221Z",
     "shell.execute_reply": "2024-06-28T15:06:19.918221Z",
     "shell.execute_reply.started": "2024-06-28T15:06:19.840150Z"
    }
   },
   "outputs": [],
   "source": [
    "columns = ['y', 'x1', 'x2', 'x3', 'x4', 'x5', 'x6', 'id']\n",
    "df_train = pd.read_csv(\"MONK/monks-1.train\",header=None, names=columns,sep=' ').set_index('id')\n",
    "\n",
    "X_train = df_train.iloc[:, 1:7].to_numpy()\n",
    "y_train = df_train.iloc[:, 0:1].to_numpy()\n",
    "\n",
    "df_test = pd.read_csv(\"MONK/monks-1.test\",header=None,names=columns,sep=' ').set_index('id')\n",
    "\n",
    "X_test = df_test.iloc[:, 1:7].to_numpy()\n",
    "y_test = df_test.iloc[:, 0:1].to_numpy()\n",
    "\n",
    "encoder = OneHotEncoder(sparse=False)\n",
    "X_train = encoder.fit_transform(X_train)\n",
    "X_test = encoder.fit_transform(X_test)"
   ]
  },
  {
   "cell_type": "markdown",
   "id": "8dd521c2-3c20-444d-a736-94f899923381",
   "metadata": {},
   "source": [
    "## Grid search"
   ]
  },
  {
   "cell_type": "markdown",
   "id": "cf1ad210-933a-492b-8283-45b95e96cca0",
   "metadata": {},
   "source": [
    "### Parameter Grid"
   ]
  },
  {
   "cell_type": "code",
   "execution_count": 151,
   "id": "f1b7876e-dba3-41fc-8b4a-2b52f0c199bf",
   "metadata": {
    "execution": {
     "iopub.execute_input": "2024-06-26T15:02:16.669645Z",
     "iopub.status.busy": "2024-06-26T15:02:16.669645Z",
     "iopub.status.idle": "2024-06-26T15:02:16.744713Z",
     "shell.execute_reply": "2024-06-26T15:02:16.744713Z",
     "shell.execute_reply.started": "2024-06-26T15:02:16.669645Z"
    },
    "scrolled": true
   },
   "outputs": [
    {
     "data": {
      "text/plain": [
       "18"
      ]
     },
     "execution_count": 151,
     "metadata": {},
     "output_type": "execute_result"
    }
   ],
   "source": [
    "param_grid = {\n",
    "    'layer_structure': [\n",
    "        [X_train.shape[1] ,6, 4, y_train.shape[1]]\n",
    "    ],\n",
    "    'epochs': [128],\n",
    "    'batch_size': [8],\n",
    "    'learning_rate': [0.05, 0.01, 0.005],\n",
    "    'momentum': [0.93, 0.95, 0.97],\n",
    "    'momentum_schedule': [False],\n",
    "    'l2_lambda': [0, 0.001],\n",
    "    'output_function': ['linear'],\n",
    "    'hidden_function': ['tanh'],\n",
    "    'init_method': ['he'],\n",
    "    'optimizer':['nesterov'],\n",
    "    'early_stopping': [True]\n",
    "}\n",
    "import itertools\n",
    "keys, values = zip(*param_grid.items())\n",
    "permutations_dicts = [dict(zip(keys, v)) for v in itertools.product(*values)]\n",
    "\n",
    "permutations_dicts = [\n",
    "    d for d in permutations_dicts \n",
    "    if not (\n",
    "        (d['optimizer'] == 'adam' and d['momentum'] > 0) or\n",
    "        (d['optimizer'] == 'nesterov' and d['momentum'] == 0 and not d['momentum_schedule']) or\n",
    "        (d['optimizer'] == 'adam' and d['momentum_schedule']) or\n",
    "        (d['optimizer'] == 'nesterov' and d['momentum_schedule'] and d['momentum'] > 0)\n",
    "    )\n",
    "]\n",
    "len(permutations_dicts)"
   ]
  },
  {
   "cell_type": "markdown",
   "id": "7823be22-0b81-4f49-861f-b5054751f30c",
   "metadata": {},
   "source": [
    "### Parallel grid search"
   ]
  },
  {
   "cell_type": "code",
   "execution_count": 152,
   "id": "9d8b5ec9-9280-4d17-9511-ea8114512883",
   "metadata": {
    "execution": {
     "iopub.execute_input": "2024-06-26T15:02:18.321142Z",
     "iopub.status.busy": "2024-06-26T15:02:18.321142Z",
     "iopub.status.idle": "2024-06-26T15:15:37.806095Z",
     "shell.execute_reply": "2024-06-26T15:15:37.806095Z",
     "shell.execute_reply.started": "2024-06-26T15:02:18.321142Z"
    }
   },
   "outputs": [
    {
     "data": {
      "application/vnd.jupyter.widget-view+json": {
       "model_id": "2516d53681a64e7da907880aa0982f86",
       "version_major": 2,
       "version_minor": 0
      },
      "text/plain": [
       "Output()"
      ]
     },
     "metadata": {},
     "output_type": "display_data"
    },
    {
     "data": {
      "text/html": [
       "<pre style=\"white-space:pre;overflow-x:auto;line-height:normal;font-family:Menlo,'DejaVu Sans Mono',consolas,'Courier New',monospace\"></pre>\n"
      ],
      "text/plain": []
     },
     "metadata": {},
     "output_type": "display_data"
    },
    {
     "data": {
      "text/html": [
       "<pre style=\"white-space:pre;overflow-x:auto;line-height:normal;font-family:Menlo,'DejaVu Sans Mono',consolas,'Courier New',monospace\">\n",
       "</pre>\n"
      ],
      "text/plain": [
       "\n"
      ]
     },
     "metadata": {},
     "output_type": "display_data"
    }
   ],
   "source": [
    "with joblib_progress(\"Grid search\", total=len(permutations_dicts)):\n",
    "    res=Parallel(n_jobs=-1)(delayed(evaluate_model_parallel)(Neural, param, X_train, y_train,5,3) for param in permutations_dicts)"
   ]
  },
  {
   "cell_type": "markdown",
   "id": "36c8d685-b227-4de9-a191-7aa3cc700dbc",
   "metadata": {},
   "source": [
    "### Best hyperparameters"
   ]
  },
  {
   "cell_type": "code",
   "execution_count": 153,
   "id": "bac3c4fd-bd77-4c33-baa5-04cb22cdc097",
   "metadata": {
    "execution": {
     "iopub.execute_input": "2024-06-26T15:15:45.458034Z",
     "iopub.status.busy": "2024-06-26T15:15:45.457033Z",
     "iopub.status.idle": "2024-06-26T15:15:45.545113Z",
     "shell.execute_reply": "2024-06-26T15:15:45.545113Z",
     "shell.execute_reply.started": "2024-06-26T15:15:45.458034Z"
    }
   },
   "outputs": [
    {
     "data": {
      "text/plain": [
       "[{'layer_structure': [17, 6, 4, 1],\n",
       "  'epochs': 128,\n",
       "  'batch_size': 8,\n",
       "  'learning_rate': 0.05,\n",
       "  'momentum': 0.95,\n",
       "  'momentum_schedule': False,\n",
       "  'l2_lambda': 0.001,\n",
       "  'output_function': 'linear',\n",
       "  'hidden_function': 'tanh',\n",
       "  'init_method': 'he',\n",
       "  'optimizer': 'nesterov',\n",
       "  'early_stopping': True},\n",
       " [0.03813965684221328,\n",
       "  0.016211468583694953,\n",
       "  0.002216276696770594,\n",
       "  0.0051266283328019946,\n",
       "  0.03486829794593072,\n",
       "  0.02547499099593669,\n",
       "  0.001650943334180829,\n",
       "  0.00525233081123226,\n",
       "  0.0022392543263977218,\n",
       "  0.0005249876822306295,\n",
       "  0.028296555076800747,\n",
       "  0.03278560847129843,\n",
       "  0.013439522459205702,\n",
       "  0.021095896207610057,\n",
       "  0.047995145983941945]]"
      ]
     },
     "execution_count": 153,
     "metadata": {},
     "output_type": "execute_result"
    }
   ],
   "source": [
    "best_mse = float(\"inf\")\n",
    "best_res = []\n",
    "for r in res:\n",
    "    if mean(r[1])<best_mse:\n",
    "        best_mse = mean(r[1])\n",
    "        best_res = r\n",
    "best_result = best_res[0]\n",
    "best_res"
   ]
  },
  {
   "cell_type": "markdown",
   "id": "e42d05a7-936c-40ff-b884-e395d7bfdf2f",
   "metadata": {},
   "source": [
    "### BEST MODEL FOUND"
   ]
  },
  {
   "cell_type": "code",
   "execution_count": 159,
   "id": "df55cad3-5040-4e24-99a2-e40d4b2dc66a",
   "metadata": {
    "execution": {
     "iopub.execute_input": "2024-06-28T15:19:56.856632Z",
     "iopub.status.busy": "2024-06-28T15:19:56.856632Z",
     "iopub.status.idle": "2024-06-28T15:19:57.049280Z",
     "shell.execute_reply": "2024-06-28T15:19:57.049280Z",
     "shell.execute_reply.started": "2024-06-28T15:19:56.856632Z"
    },
    "scrolled": true
   },
   "outputs": [
    {
     "name": "stdout",
     "output_type": "stream",
     "text": [
      "train error: 0.0003867434115711829\n",
      "Test error: 0.0013751381402649374\n"
     ]
    }
   ],
   "source": [
    "nn = Neural(best_result['layer_structure'], \n",
    "            epochs = best_result['epochs'], \n",
    "            batch_size = best_result['batch_size'],\n",
    "            learning_rate = best_result['learning_rate'],\n",
    "            hidden_function = best_result['hidden_function'],\n",
    "            output_function = best_result['output_function'],\n",
    "            init_method = best_result['init_method'],\n",
    "            momentum = best_result['momentum'],\n",
    "            l2_lambda = best_result['l2_lambda'],\n",
    "            early_stopping=True,\n",
    "            verbose=0)\n",
    "nn.fit(X_train,y_train)\n",
    "print(f\"train error: {mean_squared_error(nn.predict(X_train),y_train)}\")\n",
    "print(f\"Test error: {mean_squared_error(nn.predict(X_test),y_test)}\")"
   ]
  },
  {
   "cell_type": "code",
   "execution_count": 160,
   "id": "bd78c21f-c9c0-471b-8f2d-8bbfc79316d6",
   "metadata": {
    "execution": {
     "iopub.execute_input": "2024-06-28T15:20:01.154742Z",
     "iopub.status.busy": "2024-06-28T15:20:01.154742Z",
     "iopub.status.idle": "2024-06-28T15:20:01.337309Z",
     "shell.execute_reply": "2024-06-28T15:20:01.337309Z",
     "shell.execute_reply.started": "2024-06-28T15:20:01.154742Z"
    }
   },
   "outputs": [
    {
     "data": {
      "image/png": "[encoded data removed]",
      "text/plain": [
       "<Figure size 800x600 with 2 Axes>"
      ]
     },
     "metadata": {},
     "output_type": "display_data"
    }
   ],
   "source": [
    "pred = nn.predict(X_test) > 0.5\n",
    "pred.astype(int)\n",
    "\n",
    "cm = confusion_matrix(y_test, pred)\n",
    "\n",
    "plt.figure(figsize=(8, 6))\n",
    "sns.heatmap(cm, annot=True, fmt='d', cmap='Blues', xticklabels=['Predicted 0', 'Predicted 1'], yticklabels=['Actual 0', 'Actual 1'])\n",
    "plt.xlabel('Predicted')\n",
    "plt.ylabel('Actual')\n",
    "plt.title('Confusion Matrix')\n",
    "plt.show()"
   ]
  },
  {
   "cell_type": "code",
   "execution_count": 161,
   "id": "010a2ddf-d7fc-4aee-847b-8a0fada1113b",
   "metadata": {
    "execution": {
     "iopub.execute_input": "2024-06-28T15:20:03.489319Z",
     "iopub.status.busy": "2024-06-28T15:20:03.489319Z",
     "iopub.status.idle": "2024-06-28T15:20:03.703420Z",
     "shell.execute_reply": "2024-06-28T15:20:03.703420Z",
     "shell.execute_reply.started": "2024-06-28T15:20:03.489319Z"
    }
   },
   "outputs": [
    {
     "data": {
      "image/png": "[encoded data removed]",
      "text/plain": [
       "<Figure size 500x300 with 1 Axes>"
      ]
     },
     "metadata": {},
     "output_type": "display_data"
    },
    {
     "data": {
      "image/png": "[encoded data removed]",
      "text/plain": [
       "<Figure size 500x300 with 1 Axes>"
      ]
     },
     "metadata": {},
     "output_type": "display_data"
    }
   ],
   "source": [
    "plot_TR_VAL(nn, title='MONK1 MSE', zoom_factor=0, curve='MSE', figsize=(5,3))\n",
    "plot_TR_VAL(nn, title='MONK1 Accuracy', zoom_factor=0, curve='accuracy', figsize=(5,3))"
   ]
  },
  {
   "cell_type": "markdown",
   "id": "8b674e62",
   "metadata": {},
   "source": [
    "# Monk2 dataset loading"
   ]
  },
  {
   "cell_type": "code",
   "execution_count": 163,
   "id": "2aa490fd",
   "metadata": {},
   "outputs": [],
   "source": [
    "columns = ['y', 'x1', 'x2', 'x3', 'x4', 'x5', 'x6', 'id']\n",
    "df = pd.read_csv(\"MONK/monks-2.train\",header=None, names=columns,sep=' ').set_index('id')\n",
    "\n",
    "X_train = df.iloc[:, 1:7].to_numpy()\n",
    "y_train = df.iloc[:, 0:1].to_numpy()\n",
    "\n",
    "df = pd.read_csv(\"MONK/monks-2.test\",header=None,names=columns,sep=' ').set_index('id')\n",
    "\n",
    "X_test = df.iloc[:, 1:7].to_numpy()\n",
    "y_test = df.iloc[:, 0:1].to_numpy()\n",
    "\n",
    "encoder = OneHotEncoder(sparse=False)\n",
    "X_train = encoder.fit_transform(X_train)\n",
    "X_test = encoder.fit_transform(X_test)"
   ]
  },
  {
   "cell_type": "markdown",
   "id": "6c96e08a",
   "metadata": {},
   "source": [
    "## Grid Search"
   ]
  },
  {
   "cell_type": "markdown",
   "id": "f9b05a1d",
   "metadata": {},
   "source": [
    "### Parameter grid"
   ]
  },
  {
   "cell_type": "code",
   "execution_count": 175,
   "id": "1b91206f",
   "metadata": {},
   "outputs": [
    {
     "data": {
      "text/plain": [
       "32"
      ]
     },
     "execution_count": 175,
     "metadata": {},
     "output_type": "execute_result"
    }
   ],
   "source": [
    "param_grid = {\n",
    "    'layer_structure': [\n",
    "        [X_train.shape[1] ,6, 4, y_train.shape[1]]\n",
    "    ],\n",
    "    'epochs': [128],\n",
    "    'batch_size': [4,8],\n",
    "    'learning_rate': [0.05, 0.01],\n",
    "    'momentum': [0.90, 0.95],\n",
    "    'momentum_schedule': [False, True],\n",
    "    'l2_lambda': [0, 0.001],\n",
    "    'output_function': ['linear'],\n",
    "    'hidden_function': ['tanh'],\n",
    "    'init_method': ['he'],\n",
    "    'optimizer':['nesterov'],\n",
    "    'early_stopping': [True]\n",
    "}\n",
    "import itertools\n",
    "keys, values = zip(*param_grid.items())\n",
    "permutations_dicts = [dict(zip(keys, v)) for v in itertools.product(*values)]\n",
    "len(permutations_dicts)"
   ]
  },
  {
   "cell_type": "markdown",
   "id": "0b018773",
   "metadata": {},
   "source": [
    "### Paralle Grid Search"
   ]
  },
  {
   "cell_type": "code",
   "execution_count": 166,
   "id": "9684d9a1",
   "metadata": {},
   "outputs": [
    {
     "data": {
      "application/vnd.jupyter.widget-view+json": {
       "model_id": "95d3770f66b94698b769047ea133de17",
       "version_major": 2,
       "version_minor": 0
      },
      "text/plain": [
       "Output()"
      ]
     },
     "metadata": {},
     "output_type": "display_data"
    },
    {
     "data": {
      "text/html": [
       "<pre style=\"white-space:pre;overflow-x:auto;line-height:normal;font-family:Menlo,'DejaVu Sans Mono',consolas,'Courier New',monospace\"></pre>\n"
      ],
      "text/plain": []
     },
     "metadata": {},
     "output_type": "display_data"
    },
    {
     "data": {
      "text/html": [
       "<pre style=\"white-space:pre;overflow-x:auto;line-height:normal;font-family:Menlo,'DejaVu Sans Mono',consolas,'Courier New',monospace\">\n",
       "</pre>\n"
      ],
      "text/plain": [
       "\n"
      ]
     },
     "metadata": {},
     "output_type": "display_data"
    }
   ],
   "source": [
    "with joblib_progress(\"Grid search\", total=len(permutations_dicts)):\n",
    "    res=Parallel(n_jobs=-1)(delayed(evaluate_model_parallel)(Neural, param, X_train, y_train,5,3) for param in permutations_dicts)"
   ]
  },
  {
   "cell_type": "markdown",
   "id": "e909b45b",
   "metadata": {},
   "source": [
    "### Best hyperparameters"
   ]
  },
  {
   "cell_type": "code",
   "execution_count": 167,
   "id": "bcfe6f41",
   "metadata": {},
   "outputs": [
    {
     "data": {
      "text/plain": [
       "[{'layer_structure': [17, 6, 4, 1],\n",
       "  'epochs': 128,\n",
       "  'batch_size': 4,\n",
       "  'learning_rate': 0.05,\n",
       "  'momentum': 0.9,\n",
       "  'momentum_schedule': False,\n",
       "  'l2_lambda': 0,\n",
       "  'output_function': 'linear',\n",
       "  'hidden_function': 'tanh',\n",
       "  'init_method': 'he',\n",
       "  'optimizer': 'nesterov',\n",
       "  'early_stopping': True},\n",
       " [0.0003393594860580872,\n",
       "  0.0003240870318687797,\n",
       "  0.00022480757955539742,\n",
       "  0.00032135492068625536,\n",
       "  0.0006120966264511115,\n",
       "  0.0002665831323350617,\n",
       "  0.0007432319724608639,\n",
       "  0.0003102164413886194,\n",
       "  0.00037851303249708697,\n",
       "  6.931511544946464e-05,\n",
       "  0.0003855962416015142,\n",
       "  0.0008673743006003367,\n",
       "  0.0004221641704236479,\n",
       "  0.0005380320080401643,\n",
       "  0.0037143513977286563]]"
      ]
     },
     "execution_count": 167,
     "metadata": {},
     "output_type": "execute_result"
    }
   ],
   "source": [
    "best_mse = float(\"inf\")\n",
    "best_res = []\n",
    "for r in res:\n",
    "    if mean(r[1])<best_mse:\n",
    "        best_mse = mean(r[1])\n",
    "        best_res = r\n",
    "best_result = best_res[0]\n",
    "best_res"
   ]
  },
  {
   "cell_type": "markdown",
   "id": "5d57abe2",
   "metadata": {},
   "source": [
    "### BEST MODEL FOUND"
   ]
  },
  {
   "cell_type": "code",
   "execution_count": 177,
   "id": "5992ca14",
   "metadata": {},
   "outputs": [
    {
     "name": "stdout",
     "output_type": "stream",
     "text": [
      "train error: 0.00012830993853527002\n",
      "Test error: 0.00022756109070397237\n"
     ]
    }
   ],
   "source": [
    "nn = Neural(best_result['layer_structure'], \n",
    "            epochs = best_result['epochs'], \n",
    "            batch_size = best_result['batch_size'],\n",
    "            learning_rate = best_result['learning_rate'],\n",
    "            hidden_function = best_result['hidden_function'],\n",
    "            output_function = best_result['output_function'],\n",
    "            init_method = best_result['init_method'],\n",
    "            momentum = best_result['momentum'],\n",
    "            l2_lambda = best_result['l2_lambda'],\n",
    "            early_stopping=True,\n",
    "            verbose=0)\n",
    "nn.fit(X_train,y_train)\n",
    "print(f\"train error: {mean_squared_error(nn.predict(X_train),y_train)}\")\n",
    "print(f\"Test error: {mean_squared_error(nn.predict(X_test),y_test)}\")"
   ]
  },
  {
   "cell_type": "code",
   "execution_count": 178,
   "id": "d56773cd",
   "metadata": {},
   "outputs": [
    {
     "data": {
      "image/png": "[encoded data removed]",
      "text/plain": [
       "<Figure size 800x600 with 2 Axes>"
      ]
     },
     "metadata": {},
     "output_type": "display_data"
    }
   ],
   "source": [
    "pred = nn.predict(X_test) > 0.5\n",
    "pred.astype(int)\n",
    "\n",
    "cm = confusion_matrix(y_test, pred)\n",
    "\n",
    "plt.figure(figsize=(8, 6))\n",
    "sns.heatmap(cm, annot=True, fmt='d', cmap='Blues', xticklabels=['Predicted 0', 'Predicted 1'], yticklabels=['Actual 0', 'Actual 1'])\n",
    "plt.xlabel('Predicted')\n",
    "plt.ylabel('Actual')\n",
    "plt.title('Confusion Matrix')\n",
    "plt.show()"
   ]
  },
  {
   "cell_type": "code",
   "execution_count": 180,
   "id": "13b1a203",
   "metadata": {},
   "outputs": [
    {
     "data": {
      "image/png": "[encoded data removed]",
      "text/plain": [
       "<Figure size 500x300 with 1 Axes>"
      ]
     },
     "metadata": {},
     "output_type": "display_data"
    },
    {
     "data": {
      "image/png": "[encoded data removed]",
      "text/plain": [
       "<Figure size 500x300 with 1 Axes>"
      ]
     },
     "metadata": {},
     "output_type": "display_data"
    }
   ],
   "source": [
    "plot_TR_VAL(nn, title='MONK2 MSE', zoom_factor=0, curve='MSE', figsize=(5,3))\n",
    "plot_TR_VAL(nn, title='MONK2 Accuracy', zoom_factor=0, curve='accuracy', figsize=(5,3))"
   ]
  },
  {
   "cell_type": "markdown",
   "id": "c14bd70e",
   "metadata": {},
   "source": [
    "# Monk3 dataset loading"
   ]
  },
  {
   "cell_type": "code",
   "execution_count": 7,
   "id": "5d0b8907",
   "metadata": {
    "execution": {
     "iopub.execute_input": "2024-07-17T14:38:31.767779Z",
     "iopub.status.busy": "2024-07-17T14:38:31.766781Z",
     "iopub.status.idle": "2024-07-17T14:38:31.908403Z",
     "shell.execute_reply": "2024-07-17T14:38:31.907406Z",
     "shell.execute_reply.started": "2024-07-17T14:38:31.767779Z"
    }
   },
   "outputs": [
    {
     "name": "stderr",
     "output_type": "stream",
     "text": [
      "D:\\Python\\lib\\site-packages\\sklearn\\preprocessing\\_encoders.py:868: FutureWarning: `sparse` was renamed to `sparse_output` in version 1.2 and will be removed in 1.4. `sparse_output` is ignored unless you leave `sparse` to its default value.\n",
      "  warnings.warn(\n",
      "D:\\Python\\lib\\site-packages\\sklearn\\preprocessing\\_encoders.py:868: FutureWarning: `sparse` was renamed to `sparse_output` in version 1.2 and will be removed in 1.4. `sparse_output` is ignored unless you leave `sparse` to its default value.\n",
      "  warnings.warn(\n"
     ]
    }
   ],
   "source": [
    "columns = ['y', 'x1', 'x2', 'x3', 'x4', 'x5', 'x6', 'id']\n",
    "df_train = pd.read_csv(\"MONK/monks-3.train\",header=None, names=columns,sep=' ').set_index('id')\n",
    "\n",
    "X_train = df_train.iloc[:, 1:7].to_numpy()\n",
    "y_train = df_train.iloc[:, 0:1].to_numpy()\n",
    "\n",
    "df_test = pd.read_csv(\"MONK/monks-3.test\",header=None,names=columns,sep=' ').set_index('id')\n",
    "\n",
    "X_test = df_test.iloc[:, 1:7].to_numpy()\n",
    "y_test = df_test.iloc[:, 0:1].to_numpy()\n",
    "\n",
    "encoder = OneHotEncoder(sparse=False)\n",
    "X_train = encoder.fit_transform(X_train)\n",
    "X_test = encoder.fit_transform(X_test)"
   ]
  },
  {
   "cell_type": "markdown",
   "id": "1ceccfa4",
   "metadata": {},
   "source": [
    "## Grid Search"
   ]
  },
  {
   "cell_type": "markdown",
   "id": "fca884b2",
   "metadata": {},
   "source": [
    "### Parameter grid"
   ]
  },
  {
   "cell_type": "code",
   "execution_count": 228,
   "id": "d3089b7e",
   "metadata": {},
   "outputs": [
    {
     "data": {
      "text/plain": [
       "12"
      ]
     },
     "execution_count": 228,
     "metadata": {},
     "output_type": "execute_result"
    }
   ],
   "source": [
    "param_grid = {\n",
    "    'layer_structure': [\n",
    "        [X_train.shape[1] ,6, 4, y_train.shape[1]]\n",
    "    ],\n",
    "    'epochs': [256],\n",
    "    'batch_size': [4],\n",
    "    'learning_rate': [0.05, 0.01, 0.005],\n",
    "    'momentum': [0.95],\n",
    "    'momentum_schedule': [False],\n",
    "    'l2_lambda': [0],\n",
    "    'output_function': ['linear'],\n",
    "    'hidden_function': ['tanh', 'sigmoid'],\n",
    "    'init_method': ['he', 'xavier'],\n",
    "    'optimizer':['nesterov'],\n",
    "    'early_stopping': [True]\n",
    "}\n",
    "import itertools\n",
    "keys, values = zip(*param_grid.items())\n",
    "permutations_dicts = [dict(zip(keys, v)) for v in itertools.product(*values)]\n",
    "\n",
    "permutations_dicts = [\n",
    "    d for d in permutations_dicts \n",
    "    if not (\n",
    "        (d['optimizer'] == 'nesterov' and d['momentum'] == 0 and not d['momentum_schedule']) or\n",
    "        (d['optimizer'] == 'nesterov' and d['momentum_schedule'] and d['momentum'] > 0)\n",
    "    )\n",
    "]\n",
    "\n",
    "len(permutations_dicts)"
   ]
  },
  {
   "cell_type": "markdown",
   "id": "aea0d3b0",
   "metadata": {},
   "source": [
    "### Paralle grid search"
   ]
  },
  {
   "cell_type": "code",
   "execution_count": 229,
   "id": "5d6d08fd",
   "metadata": {},
   "outputs": [
    {
     "data": {
      "application/vnd.jupyter.widget-view+json": {
       "model_id": "9b20d38ddee747d8ac6058dbb63b4dac",
       "version_major": 2,
       "version_minor": 0
      },
      "text/plain": [
       "Output()"
      ]
     },
     "metadata": {},
     "output_type": "display_data"
    },
    {
     "data": {
      "text/html": [
       "<pre style=\"white-space:pre;overflow-x:auto;line-height:normal;font-family:Menlo,'DejaVu Sans Mono',consolas,'Courier New',monospace\"></pre>\n"
      ],
      "text/plain": []
     },
     "metadata": {},
     "output_type": "display_data"
    },
    {
     "data": {
      "text/html": [
       "<pre style=\"white-space:pre;overflow-x:auto;line-height:normal;font-family:Menlo,'DejaVu Sans Mono',consolas,'Courier New',monospace\">\n",
       "</pre>\n"
      ],
      "text/plain": [
       "\n"
      ]
     },
     "metadata": {},
     "output_type": "display_data"
    }
   ],
   "source": [
    "from joblib import Parallel, delayed\n",
    "from parallel_kfold import evaluate_model_parallel\n",
    "from joblib_progress import joblib_progress\n",
    "\n",
    "with joblib_progress(\"Grid search\", total=len(permutations_dicts)):\n",
    "    res=Parallel(n_jobs=-1)(delayed(evaluate_model_parallel)(Neural, param, X_train, y_train,5,3) for param in permutations_dicts)"
   ]
  },
  {
   "cell_type": "markdown",
   "id": "990f226f",
   "metadata": {},
   "source": [
    "### Best hyperparameters"
   ]
  },
  {
   "cell_type": "code",
   "execution_count": 230,
   "id": "04c9adcb",
   "metadata": {},
   "outputs": [
    {
     "data": {
      "text/plain": [
       "[{'layer_structure': [17, 6, 4, 1],\n",
       "  'epochs': 256,\n",
       "  'batch_size': 4,\n",
       "  'learning_rate': 0.005,\n",
       "  'momentum': 0.95,\n",
       "  'momentum_schedule': False,\n",
       "  'l2_lambda': 0,\n",
       "  'output_function': 'linear',\n",
       "  'hidden_function': 'sigmoid',\n",
       "  'init_method': 'xavier',\n",
       "  'optimizer': 'nesterov',\n",
       "  'early_stopping': True},\n",
       " [0.1367509439045257,\n",
       "  0.059037270868225446,\n",
       "  0.062085330929066714,\n",
       "  0.03728168191010752,\n",
       "  0.07722321245372385,\n",
       "  0.03739576413533568,\n",
       "  0.05937247870927636,\n",
       "  0.09427280187543235,\n",
       "  0.108753681414878,\n",
       "  0.04485934018075396,\n",
       "  0.08470493343675672,\n",
       "  0.19156518371873738,\n",
       "  0.056203340779538695,\n",
       "  0.026372946889633823,\n",
       "  0.03215716509182285]]"
      ]
     },
     "execution_count": 230,
     "metadata": {},
     "output_type": "execute_result"
    }
   ],
   "source": [
    "best_mse = float(\"inf\")\n",
    "best_res = []\n",
    "for r in res:\n",
    "    if mean(r[1])<best_mse:\n",
    "        best_mse = mean(r[1])\n",
    "        best_res = r\n",
    "best_result = best_res[0]\n",
    "best_res"
   ]
  },
  {
   "cell_type": "markdown",
   "id": "ec0b55c9",
   "metadata": {},
   "source": [
    "### BEST MODEL FOUND"
   ]
  },
  {
   "cell_type": "code",
   "execution_count": 233,
   "id": "9c5f68f9",
   "metadata": {
    "scrolled": true
   },
   "outputs": [
    {
     "name": "stdout",
     "output_type": "stream",
     "text": [
      "========================================\n",
      "Epoch: 0\n",
      "Train MSE: 0.255\tVal MSE: 0.249\n",
      "========================================\n",
      "Epoch: 1\n",
      "Train MSE: 0.244\tVal MSE: 0.247\n",
      "========================================\n",
      "Epoch: 2\n",
      "Train MSE: 0.240\tVal MSE: 0.240\n",
      "========================================\n",
      "Epoch: 3\n",
      "Train MSE: 0.238\tVal MSE: 0.240\n",
      "========================================\n",
      "Epoch: 4\n",
      "Train MSE: 0.235\tVal MSE: 0.238\n",
      "========================================\n",
      "Epoch: 5\n",
      "Train MSE: 0.233\tVal MSE: 0.236\n",
      "========================================\n",
      "Epoch: 6\n",
      "Train MSE: 0.230\tVal MSE: 0.234\n",
      "========================================\n",
      "Epoch: 7\n",
      "Train MSE: 0.228\tVal MSE: 0.232\n",
      "========================================\n",
      "Epoch: 8\n",
      "Train MSE: 0.225\tVal MSE: 0.230\n",
      "========================================\n",
      "Epoch: 9\n",
      "Train MSE: 0.222\tVal MSE: 0.227\n",
      "========================================\n",
      "Epoch: 10\n",
      "Train MSE: 0.219\tVal MSE: 0.225\n",
      "========================================\n",
      "Epoch: 11\n",
      "Train MSE: 0.215\tVal MSE: 0.222\n",
      "========================================\n",
      "Epoch: 12\n",
      "Train MSE: 0.211\tVal MSE: 0.218\n",
      "========================================\n",
      "Epoch: 13\n",
      "Train MSE: 0.207\tVal MSE: 0.214\n",
      "========================================\n",
      "Epoch: 14\n",
      "Train MSE: 0.203\tVal MSE: 0.210\n",
      "========================================\n",
      "Epoch: 15\n",
      "Train MSE: 0.198\tVal MSE: 0.206\n",
      "========================================\n",
      "Epoch: 16\n",
      "Train MSE: 0.193\tVal MSE: 0.201\n",
      "========================================\n",
      "Epoch: 17\n",
      "Train MSE: 0.187\tVal MSE: 0.195\n",
      "========================================\n",
      "Epoch: 18\n",
      "Train MSE: 0.182\tVal MSE: 0.190\n",
      "========================================\n",
      "Epoch: 19\n",
      "Train MSE: 0.175\tVal MSE: 0.183\n",
      "========================================\n",
      "Epoch: 20\n",
      "Train MSE: 0.169\tVal MSE: 0.177\n",
      "========================================\n",
      "Epoch: 21\n",
      "Train MSE: 0.163\tVal MSE: 0.170\n",
      "========================================\n",
      "Epoch: 22\n",
      "Train MSE: 0.156\tVal MSE: 0.162\n",
      "========================================\n",
      "Epoch: 23\n",
      "Train MSE: 0.149\tVal MSE: 0.155\n",
      "========================================\n",
      "Epoch: 24\n",
      "Train MSE: 0.143\tVal MSE: 0.147\n",
      "========================================\n",
      "Epoch: 25\n",
      "Train MSE: 0.136\tVal MSE: 0.139\n",
      "========================================\n",
      "Epoch: 26\n",
      "Train MSE: 0.130\tVal MSE: 0.131\n",
      "========================================\n",
      "Epoch: 27\n",
      "Train MSE: 0.124\tVal MSE: 0.124\n",
      "========================================\n",
      "Epoch: 28\n",
      "Train MSE: 0.119\tVal MSE: 0.116\n",
      "========================================\n",
      "Epoch: 29\n",
      "Train MSE: 0.114\tVal MSE: 0.109\n",
      "========================================\n",
      "Epoch: 30\n",
      "Train MSE: 0.109\tVal MSE: 0.103\n",
      "========================================\n",
      "Epoch: 31\n",
      "Train MSE: 0.105\tVal MSE: 0.096\n",
      "========================================\n",
      "Epoch: 32\n",
      "Train MSE: 0.102\tVal MSE: 0.091\n",
      "========================================\n",
      "Epoch: 33\n",
      "Train MSE: 0.098\tVal MSE: 0.085\n",
      "========================================\n",
      "Epoch: 34\n",
      "Train MSE: 0.096\tVal MSE: 0.081\n",
      "========================================\n",
      "Epoch: 35\n",
      "Train MSE: 0.093\tVal MSE: 0.076\n",
      "========================================\n",
      "Epoch: 36\n",
      "Train MSE: 0.091\tVal MSE: 0.072\n",
      "========================================\n",
      "Epoch: 37\n",
      "Train MSE: 0.089\tVal MSE: 0.069\n",
      "========================================\n",
      "Epoch: 38\n",
      "Train MSE: 0.087\tVal MSE: 0.065\n",
      "========================================\n",
      "Epoch: 39\n",
      "Train MSE: 0.086\tVal MSE: 0.062\n",
      "========================================\n",
      "Epoch: 40\n",
      "Train MSE: 0.084\tVal MSE: 0.060\n",
      "========================================\n",
      "Epoch: 41\n",
      "Train MSE: 0.083\tVal MSE: 0.057\n",
      "========================================\n",
      "Epoch: 42\n",
      "Train MSE: 0.082\tVal MSE: 0.055\n",
      "========================================\n",
      "Epoch: 43\n",
      "Train MSE: 0.081\tVal MSE: 0.053\n",
      "========================================\n",
      "Epoch: 44\n",
      "Train MSE: 0.080\tVal MSE: 0.051\n",
      "========================================\n",
      "Epoch: 45\n",
      "Train MSE: 0.079\tVal MSE: 0.049\n",
      "========================================\n",
      "Epoch: 46\n",
      "Train MSE: 0.078\tVal MSE: 0.048\n",
      "========================================\n",
      "Epoch: 47\n",
      "Train MSE: 0.077\tVal MSE: 0.046\n",
      "========================================\n",
      "Epoch: 48\n",
      "Train MSE: 0.077\tVal MSE: 0.045\n",
      "========================================\n",
      "Epoch: 49\n",
      "Train MSE: 0.076\tVal MSE: 0.043\n",
      "========================================\n",
      "Epoch: 50\n",
      "Train MSE: 0.075\tVal MSE: 0.042\n",
      "========================================\n",
      "Epoch: 51\n",
      "Train MSE: 0.075\tVal MSE: 0.041\n",
      "========================================\n",
      "Epoch: 52\n",
      "Train MSE: 0.074\tVal MSE: 0.040\n",
      "========================================\n",
      "Epoch: 53\n",
      "Train MSE: 0.074\tVal MSE: 0.039\n",
      "========================================\n",
      "Epoch: 54\n",
      "Train MSE: 0.073\tVal MSE: 0.038\n",
      "========================================\n",
      "Epoch: 55\n",
      "Train MSE: 0.073\tVal MSE: 0.037\n",
      "========================================\n",
      "Epoch: 56\n",
      "Train MSE: 0.072\tVal MSE: 0.036\n",
      "========================================\n",
      "Epoch: 57\n",
      "Train MSE: 0.072\tVal MSE: 0.036\n",
      "========================================\n",
      "Epoch: 58\n",
      "Train MSE: 0.071\tVal MSE: 0.035\n",
      "========================================\n",
      "Epoch: 59\n",
      "Train MSE: 0.071\tVal MSE: 0.034\n",
      "========================================\n",
      "Epoch: 60\n",
      "Train MSE: 0.071\tVal MSE: 0.034\n",
      "========================================\n",
      "Epoch: 61\n",
      "Train MSE: 0.070\tVal MSE: 0.033\n",
      "========================================\n",
      "Epoch: 62\n",
      "Train MSE: 0.070\tVal MSE: 0.033\n",
      "========================================\n",
      "Epoch: 63\n",
      "Train MSE: 0.070\tVal MSE: 0.032\n",
      "========================================\n",
      "Epoch: 64\n",
      "Train MSE: 0.069\tVal MSE: 0.032\n",
      "========================================\n",
      "Epoch: 65\n",
      "Train MSE: 0.069\tVal MSE: 0.031\n",
      "========================================\n",
      "Epoch: 66\n",
      "Train MSE: 0.069\tVal MSE: 0.031\n",
      "========================================\n",
      "Epoch: 67\n",
      "Train MSE: 0.068\tVal MSE: 0.030\n",
      "========================================\n",
      "Epoch: 68\n",
      "Train MSE: 0.068\tVal MSE: 0.030\n",
      "========================================\n",
      "Epoch: 69\n",
      "Train MSE: 0.068\tVal MSE: 0.030\n",
      "========================================\n",
      "Epoch: 70\n",
      "Train MSE: 0.068\tVal MSE: 0.029\n",
      "========================================\n",
      "Epoch: 71\n",
      "Train MSE: 0.067\tVal MSE: 0.029\n",
      "========================================\n",
      "Epoch: 72\n",
      "Train MSE: 0.067\tVal MSE: 0.029\n",
      "========================================\n",
      "Epoch: 73\n",
      "Train MSE: 0.067\tVal MSE: 0.028\n",
      "========================================\n",
      "Epoch: 74\n",
      "Train MSE: 0.067\tVal MSE: 0.028\n",
      "========================================\n",
      "Epoch: 75\n",
      "Train MSE: 0.067\tVal MSE: 0.028\n",
      "========================================\n",
      "Epoch: 76\n",
      "Train MSE: 0.066\tVal MSE: 0.028\n",
      "========================================\n",
      "Epoch: 77\n",
      "Train MSE: 0.066\tVal MSE: 0.028\n",
      "========================================\n",
      "Epoch: 78\n",
      "Train MSE: 0.066\tVal MSE: 0.027\n",
      "========================================\n",
      "Epoch: 79\n",
      "Train MSE: 0.066\tVal MSE: 0.027\n",
      "========================================\n",
      "Epoch: 80\n",
      "Train MSE: 0.066\tVal MSE: 0.027\n",
      "========================================\n",
      "Epoch: 81\n",
      "Train MSE: 0.066\tVal MSE: 0.027\n",
      "========================================\n",
      "Epoch: 82\n",
      "Train MSE: 0.065\tVal MSE: 0.027\n",
      "========================================\n",
      "Epoch: 83\n",
      "Train MSE: 0.065\tVal MSE: 0.026\n",
      "========================================\n",
      "Epoch: 84\n",
      "Train MSE: 0.065\tVal MSE: 0.026\n",
      "========================================\n",
      "Epoch: 85\n",
      "Train MSE: 0.065\tVal MSE: 0.026\n",
      "========================================\n",
      "Epoch: 86\n",
      "Train MSE: 0.065\tVal MSE: 0.026\n",
      "========================================\n",
      "Epoch: 87\n",
      "Train MSE: 0.065\tVal MSE: 0.026\n",
      "========================================\n",
      "Epoch: 88\n",
      "Train MSE: 0.065\tVal MSE: 0.026\n",
      "========================================\n",
      "Epoch: 89\n",
      "Train MSE: 0.064\tVal MSE: 0.026\n",
      "========================================\n",
      "Epoch: 90\n",
      "Train MSE: 0.064\tVal MSE: 0.026\n",
      "========================================\n",
      "Epoch: 91\n",
      "Train MSE: 0.064\tVal MSE: 0.025\n",
      "========================================\n",
      "Epoch: 92\n",
      "Train MSE: 0.064\tVal MSE: 0.025\n",
      "========================================\n",
      "Epoch: 93\n",
      "Train MSE: 0.064\tVal MSE: 0.025\n",
      "========================================\n",
      "Epoch: 94\n",
      "Train MSE: 0.064\tVal MSE: 0.025\n",
      "========================================\n",
      "Epoch: 95\n",
      "Train MSE: 0.064\tVal MSE: 0.025\n",
      "========================================\n",
      "Epoch: 96\n",
      "Train MSE: 0.064\tVal MSE: 0.025\n",
      "========================================\n",
      "Epoch: 97\n",
      "Train MSE: 0.063\tVal MSE: 0.025\n",
      "========================================\n",
      "Epoch: 98\n",
      "Train MSE: 0.063\tVal MSE: 0.025\n",
      "========================================\n",
      "Epoch: 99\n",
      "Train MSE: 0.063\tVal MSE: 0.025\n",
      "========================================\n",
      "Epoch: 100\n",
      "Train MSE: 0.063\tVal MSE: 0.025\n",
      "========================================\n",
      "Epoch: 101\n",
      "Train MSE: 0.063\tVal MSE: 0.025\n",
      "========================================\n",
      "Epoch: 102\n",
      "Train MSE: 0.063\tVal MSE: 0.025\n",
      "========================================\n",
      "Epoch: 103\n",
      "Train MSE: 0.063\tVal MSE: 0.025\n",
      "========================================\n",
      "Epoch: 104\n",
      "Train MSE: 0.063\tVal MSE: 0.024\n",
      "========================================\n",
      "Epoch: 105\n",
      "Train MSE: 0.063\tVal MSE: 0.024\n",
      "========================================\n",
      "Epoch: 106\n",
      "Train MSE: 0.063\tVal MSE: 0.024\n",
      "========================================\n",
      "Epoch: 107\n",
      "Train MSE: 0.063\tVal MSE: 0.024\n"
     ]
    },
    {
     "name": "stdout",
     "output_type": "stream",
     "text": [
      "========================================\n",
      "Epoch: 108\n",
      "Train MSE: 0.062\tVal MSE: 0.024\n",
      "========================================\n",
      "Epoch: 109\n",
      "Train MSE: 0.062\tVal MSE: 0.024\n",
      "========================================\n",
      "Epoch: 110\n",
      "Train MSE: 0.062\tVal MSE: 0.024\n",
      "========================================\n",
      "Epoch: 111\n",
      "Train MSE: 0.062\tVal MSE: 0.024\n",
      "========================================\n",
      "Epoch: 112\n",
      "Train MSE: 0.062\tVal MSE: 0.024\n",
      "========================================\n",
      "Epoch: 113\n",
      "Train MSE: 0.062\tVal MSE: 0.024\n",
      "========================================\n",
      "Epoch: 114\n",
      "Train MSE: 0.062\tVal MSE: 0.024\n",
      "========================================\n",
      "Epoch: 115\n",
      "Train MSE: 0.062\tVal MSE: 0.024\n",
      "========================================\n",
      "Epoch: 116\n",
      "Train MSE: 0.062\tVal MSE: 0.024\n",
      "========================================\n",
      "Epoch: 117\n",
      "Train MSE: 0.062\tVal MSE: 0.024\n",
      "========================================\n",
      "Epoch: 118\n",
      "Train MSE: 0.062\tVal MSE: 0.024\n",
      "========================================\n",
      "Epoch: 119\n",
      "Train MSE: 0.062\tVal MSE: 0.024\n",
      "========================================\n",
      "Epoch: 120\n",
      "Train MSE: 0.062\tVal MSE: 0.024\n",
      "========================================\n",
      "Epoch: 121\n",
      "Train MSE: 0.061\tVal MSE: 0.024\n",
      "========================================\n",
      "Epoch: 122\n",
      "Train MSE: 0.061\tVal MSE: 0.024\n",
      "========================================\n",
      "Epoch: 123\n",
      "Train MSE: 0.061\tVal MSE: 0.024\n",
      "========================================\n",
      "Epoch: 124\n",
      "Train MSE: 0.061\tVal MSE: 0.023\n",
      "========================================\n",
      "Epoch: 125\n",
      "Train MSE: 0.061\tVal MSE: 0.023\n",
      "========================================\n",
      "Epoch: 126\n",
      "Train MSE: 0.061\tVal MSE: 0.023\n",
      "========================================\n",
      "Epoch: 127\n",
      "Train MSE: 0.061\tVal MSE: 0.023\n",
      "========================================\n",
      "Epoch: 128\n",
      "Train MSE: 0.061\tVal MSE: 0.023\n",
      "========================================\n",
      "Epoch: 129\n",
      "Train MSE: 0.061\tVal MSE: 0.023\n",
      "========================================\n",
      "Epoch: 130\n",
      "Train MSE: 0.061\tVal MSE: 0.023\n",
      "========================================\n",
      "Epoch: 131\n",
      "Train MSE: 0.061\tVal MSE: 0.023\n",
      "========================================\n",
      "Epoch: 132\n",
      "Train MSE: 0.061\tVal MSE: 0.023\n",
      "========================================\n",
      "Epoch: 133\n",
      "Train MSE: 0.061\tVal MSE: 0.023\n",
      "========================================\n",
      "Epoch: 134\n",
      "Train MSE: 0.061\tVal MSE: 0.023\n",
      "========================================\n",
      "Epoch: 135\n",
      "Train MSE: 0.061\tVal MSE: 0.023\n",
      "========================================\n",
      "Epoch: 136\n",
      "Train MSE: 0.061\tVal MSE: 0.023\n",
      "========================================\n",
      "Epoch: 137\n",
      "Train MSE: 0.061\tVal MSE: 0.023\n",
      "========================================\n",
      "Epoch: 138\n",
      "Train MSE: 0.060\tVal MSE: 0.023\n",
      "========================================\n",
      "Epoch: 139\n",
      "Train MSE: 0.060\tVal MSE: 0.023\n",
      "========================================\n",
      "Epoch: 140\n",
      "Train MSE: 0.060\tVal MSE: 0.023\n",
      "========================================\n",
      "Epoch: 141\n",
      "Train MSE: 0.060\tVal MSE: 0.023\n",
      "========================================\n",
      "Epoch: 142\n",
      "Train MSE: 0.060\tVal MSE: 0.023\n",
      "========================================\n",
      "Epoch: 143\n",
      "Train MSE: 0.060\tVal MSE: 0.023\n",
      "========================================\n",
      "Epoch: 144\n",
      "Train MSE: 0.060\tVal MSE: 0.023\n",
      "========================================\n",
      "Epoch: 145\n",
      "Train MSE: 0.060\tVal MSE: 0.023\n",
      "========================================\n",
      "Epoch: 146\n",
      "Train MSE: 0.060\tVal MSE: 0.023\n",
      "========================================\n",
      "Epoch: 147\n",
      "Train MSE: 0.060\tVal MSE: 0.023\n",
      "========================================\n",
      "Epoch: 148\n",
      "Train MSE: 0.060\tVal MSE: 0.023\n",
      "========================================\n",
      "Epoch: 149\n",
      "Train MSE: 0.060\tVal MSE: 0.023\n",
      "========================================\n",
      "Epoch: 150\n",
      "Train MSE: 0.060\tVal MSE: 0.023\n",
      "========================================\n",
      "Epoch: 151\n",
      "Train MSE: 0.060\tVal MSE: 0.023\n",
      "========================================\n",
      "Epoch: 152\n",
      "Train MSE: 0.060\tVal MSE: 0.023\n",
      "========================================\n",
      "Epoch: 153\n",
      "Train MSE: 0.060\tVal MSE: 0.023\n",
      "========================================\n",
      "Epoch: 154\n",
      "Train MSE: 0.060\tVal MSE: 0.023\n",
      "========================================\n",
      "Epoch: 155\n",
      "Train MSE: 0.060\tVal MSE: 0.023\n",
      "========================================\n",
      "Epoch: 156\n",
      "Train MSE: 0.060\tVal MSE: 0.023\n",
      "========================================\n",
      "Epoch: 157\n",
      "Train MSE: 0.060\tVal MSE: 0.022\n",
      "========================================\n",
      "Epoch: 158\n",
      "Train MSE: 0.059\tVal MSE: 0.022\n",
      "========================================\n",
      "Epoch: 159\n",
      "Train MSE: 0.059\tVal MSE: 0.022\n",
      "========================================\n",
      "Epoch: 160\n",
      "Train MSE: 0.059\tVal MSE: 0.022\n",
      "========================================\n",
      "Epoch: 161\n",
      "Train MSE: 0.059\tVal MSE: 0.022\n",
      "========================================\n",
      "Epoch: 162\n",
      "Train MSE: 0.059\tVal MSE: 0.022\n",
      "========================================\n",
      "Epoch: 163\n",
      "Train MSE: 0.059\tVal MSE: 0.022\n",
      "========================================\n",
      "Epoch: 164\n",
      "Train MSE: 0.059\tVal MSE: 0.022\n",
      "========================================\n",
      "Epoch: 165\n",
      "Train MSE: 0.059\tVal MSE: 0.022\n",
      "========================================\n",
      "Epoch: 166\n",
      "Train MSE: 0.059\tVal MSE: 0.022\n",
      "========================================\n",
      "Epoch: 167\n",
      "Train MSE: 0.059\tVal MSE: 0.022\n",
      "========================================\n",
      "Epoch: 168\n",
      "Train MSE: 0.059\tVal MSE: 0.022\n",
      "========================================\n",
      "Epoch: 169\n",
      "Train MSE: 0.059\tVal MSE: 0.022\n",
      "========================================\n",
      "Epoch: 170\n",
      "Train MSE: 0.059\tVal MSE: 0.022\n",
      "========================================\n",
      "Epoch: 171\n",
      "Train MSE: 0.059\tVal MSE: 0.022\n",
      "========================================\n",
      "Epoch: 172\n",
      "Train MSE: 0.059\tVal MSE: 0.022\n",
      "========================================\n",
      "Epoch: 173\n",
      "Train MSE: 0.059\tVal MSE: 0.022\n",
      "========================================\n",
      "Epoch: 174\n",
      "Train MSE: 0.059\tVal MSE: 0.022\n",
      "========================================\n",
      "Epoch: 175\n",
      "Train MSE: 0.059\tVal MSE: 0.022\n",
      "========================================\n",
      "Epoch: 176\n",
      "Train MSE: 0.059\tVal MSE: 0.022\n",
      "========================================\n",
      "Epoch: 177\n",
      "Train MSE: 0.059\tVal MSE: 0.022\n",
      "========================================\n",
      "Epoch: 178\n",
      "Train MSE: 0.059\tVal MSE: 0.022\n",
      "========================================\n",
      "Epoch: 179\n",
      "Train MSE: 0.059\tVal MSE: 0.022\n",
      "========================================\n",
      "Epoch: 180\n",
      "Train MSE: 0.059\tVal MSE: 0.022\n",
      "========================================\n",
      "Epoch: 181\n",
      "Train MSE: 0.058\tVal MSE: 0.022\n",
      "========================================\n",
      "Epoch: 182\n",
      "Train MSE: 0.058\tVal MSE: 0.022\n",
      "========================================\n",
      "Epoch: 183\n",
      "Train MSE: 0.058\tVal MSE: 0.022\n",
      "========================================\n",
      "Epoch: 184\n",
      "Train MSE: 0.058\tVal MSE: 0.022\n",
      "========================================\n",
      "Epoch: 185\n",
      "Train MSE: 0.058\tVal MSE: 0.022\n",
      "========================================\n",
      "Epoch: 186\n",
      "Train MSE: 0.058\tVal MSE: 0.022\n",
      "========================================\n",
      "Epoch: 187\n",
      "Train MSE: 0.058\tVal MSE: 0.022\n",
      "========================================\n",
      "Epoch: 188\n",
      "Train MSE: 0.058\tVal MSE: 0.022\n",
      "========================================\n",
      "Epoch: 189\n",
      "Train MSE: 0.058\tVal MSE: 0.022\n",
      "========================================\n",
      "Epoch: 190\n",
      "Train MSE: 0.058\tVal MSE: 0.022\n",
      "========================================\n",
      "Epoch: 191\n",
      "Train MSE: 0.058\tVal MSE: 0.022\n",
      "========================================\n",
      "Epoch: 192\n",
      "Train MSE: 0.058\tVal MSE: 0.022\n",
      "========================================\n",
      "Epoch: 193\n",
      "Train MSE: 0.058\tVal MSE: 0.022\n",
      "========================================\n",
      "Epoch: 194\n",
      "Train MSE: 0.058\tVal MSE: 0.022\n",
      "========================================\n",
      "Epoch: 195\n",
      "Train MSE: 0.058\tVal MSE: 0.021\n",
      "========================================\n",
      "Epoch: 196\n",
      "Train MSE: 0.058\tVal MSE: 0.021\n",
      "========================================\n",
      "Epoch: 197\n",
      "Train MSE: 0.058\tVal MSE: 0.021\n",
      "========================================\n",
      "Epoch: 198\n",
      "Train MSE: 0.058\tVal MSE: 0.021\n",
      "========================================\n",
      "Epoch: 199\n",
      "Train MSE: 0.058\tVal MSE: 0.021\n",
      "========================================\n",
      "Epoch: 200\n",
      "Train MSE: 0.058\tVal MSE: 0.021\n",
      "========================================\n",
      "Epoch: 201\n",
      "Train MSE: 0.058\tVal MSE: 0.021\n",
      "========================================\n",
      "Epoch: 202\n",
      "Train MSE: 0.058\tVal MSE: 0.021\n",
      "========================================\n",
      "Epoch: 203\n",
      "Train MSE: 0.058\tVal MSE: 0.021\n",
      "========================================\n",
      "Epoch: 204\n",
      "Train MSE: 0.058\tVal MSE: 0.021\n",
      "========================================\n",
      "Epoch: 205\n",
      "Train MSE: 0.057\tVal MSE: 0.021\n",
      "========================================\n",
      "Epoch: 206\n",
      "Train MSE: 0.057\tVal MSE: 0.021\n",
      "========================================\n",
      "Epoch: 207\n",
      "Train MSE: 0.057\tVal MSE: 0.021\n",
      "========================================\n",
      "Epoch: 208\n",
      "Train MSE: 0.057\tVal MSE: 0.021\n"
     ]
    },
    {
     "name": "stdout",
     "output_type": "stream",
     "text": [
      "========================================\n",
      "Epoch: 209\n",
      "Train MSE: 0.057\tVal MSE: 0.021\n",
      "========================================\n",
      "Epoch: 210\n",
      "Train MSE: 0.057\tVal MSE: 0.021\n",
      "========================================\n",
      "Epoch: 211\n",
      "Train MSE: 0.057\tVal MSE: 0.021\n",
      "========================================\n",
      "Epoch: 212\n",
      "Train MSE: 0.057\tVal MSE: 0.021\n",
      "========================================\n",
      "Epoch: 213\n",
      "Train MSE: 0.057\tVal MSE: 0.021\n",
      "========================================\n",
      "Epoch: 214\n",
      "Train MSE: 0.057\tVal MSE: 0.021\n",
      "========================================\n",
      "Epoch: 215\n",
      "Train MSE: 0.057\tVal MSE: 0.021\n",
      "========================================\n",
      "Epoch: 216\n",
      "Train MSE: 0.057\tVal MSE: 0.021\n",
      "========================================\n",
      "Epoch: 217\n",
      "Train MSE: 0.057\tVal MSE: 0.021\n",
      "========================================\n",
      "Epoch: 218\n",
      "Train MSE: 0.057\tVal MSE: 0.021\n",
      "========================================\n",
      "Epoch: 219\n",
      "Train MSE: 0.057\tVal MSE: 0.021\n",
      "========================================\n",
      "Epoch: 220\n",
      "Train MSE: 0.057\tVal MSE: 0.021\n",
      "========================================\n",
      "Epoch: 221\n",
      "Train MSE: 0.057\tVal MSE: 0.021\n",
      "========================================\n",
      "Epoch: 222\n",
      "Train MSE: 0.057\tVal MSE: 0.021\n",
      "========================================\n",
      "Epoch: 223\n",
      "Train MSE: 0.057\tVal MSE: 0.021\n",
      "========================================\n",
      "Epoch: 224\n",
      "Train MSE: 0.057\tVal MSE: 0.021\n",
      "========================================\n",
      "Epoch: 225\n",
      "Train MSE: 0.057\tVal MSE: 0.021\n",
      "========================================\n",
      "Epoch: 226\n",
      "Train MSE: 0.057\tVal MSE: 0.021\n",
      "========================================\n",
      "Epoch: 227\n",
      "Train MSE: 0.057\tVal MSE: 0.021\n",
      "========================================\n",
      "Epoch: 228\n",
      "Train MSE: 0.056\tVal MSE: 0.021\n",
      "========================================\n",
      "Epoch: 229\n",
      "Train MSE: 0.056\tVal MSE: 0.021\n",
      "========================================\n",
      "Epoch: 230\n",
      "Train MSE: 0.056\tVal MSE: 0.020\n",
      "========================================\n",
      "Epoch: 231\n",
      "Train MSE: 0.056\tVal MSE: 0.020\n",
      "========================================\n",
      "Epoch: 232\n",
      "Train MSE: 0.056\tVal MSE: 0.020\n",
      "========================================\n",
      "Epoch: 233\n",
      "Train MSE: 0.056\tVal MSE: 0.020\n",
      "========================================\n",
      "Epoch: 234\n",
      "Train MSE: 0.056\tVal MSE: 0.020\n",
      "========================================\n",
      "Epoch: 235\n",
      "Train MSE: 0.056\tVal MSE: 0.020\n",
      "========================================\n",
      "Epoch: 236\n",
      "Train MSE: 0.056\tVal MSE: 0.020\n",
      "========================================\n",
      "Epoch: 237\n",
      "Train MSE: 0.056\tVal MSE: 0.020\n",
      "========================================\n",
      "Epoch: 238\n",
      "Train MSE: 0.056\tVal MSE: 0.020\n",
      "========================================\n",
      "Epoch: 239\n",
      "Train MSE: 0.056\tVal MSE: 0.020\n",
      "========================================\n",
      "Epoch: 240\n",
      "Train MSE: 0.056\tVal MSE: 0.020\n",
      "========================================\n",
      "Epoch: 241\n",
      "Train MSE: 0.056\tVal MSE: 0.020\n",
      "========================================\n",
      "Epoch: 242\n",
      "Train MSE: 0.056\tVal MSE: 0.020\n",
      "========================================\n",
      "Epoch: 243\n",
      "Train MSE: 0.056\tVal MSE: 0.020\n",
      "========================================\n",
      "Epoch: 244\n",
      "Train MSE: 0.056\tVal MSE: 0.020\n",
      "========================================\n",
      "Epoch: 245\n",
      "Train MSE: 0.056\tVal MSE: 0.020\n",
      "========================================\n",
      "Epoch: 246\n",
      "Train MSE: 0.056\tVal MSE: 0.020\n",
      "========================================\n",
      "Epoch: 247\n",
      "Train MSE: 0.056\tVal MSE: 0.020\n",
      "========================================\n",
      "Epoch: 248\n",
      "Train MSE: 0.056\tVal MSE: 0.020\n",
      "========================================\n",
      "Epoch: 249\n",
      "Train MSE: 0.056\tVal MSE: 0.020\n",
      "========================================\n",
      "Epoch: 250\n",
      "Train MSE: 0.055\tVal MSE: 0.020\n",
      "========================================\n",
      "Epoch: 251\n",
      "Train MSE: 0.055\tVal MSE: 0.020\n",
      "========================================\n",
      "Epoch: 252\n",
      "Train MSE: 0.055\tVal MSE: 0.020\n",
      "========================================\n",
      "Epoch: 253\n",
      "Train MSE: 0.055\tVal MSE: 0.020\n",
      "========================================\n",
      "Epoch: 254\n",
      "Train MSE: 0.055\tVal MSE: 0.020\n",
      "========================================\n",
      "Epoch: 255\n",
      "Train MSE: 0.055\tVal MSE: 0.020\n",
      "train error: 0.05142001393026794\n",
      "Test error: 0.045014878433533516\n"
     ]
    }
   ],
   "source": [
    "nn = Neural(best_result['layer_structure'], \n",
    "            epochs = best_result['epochs'], \n",
    "            batch_size = best_result['batch_size'],\n",
    "            learning_rate = best_result['learning_rate'],\n",
    "            hidden_function = best_result['hidden_function'],\n",
    "            output_function = best_result['output_function'],\n",
    "            init_method = best_result['init_method'],\n",
    "            momentum = best_result['momentum'],\n",
    "            l2_lambda = best_result['l2_lambda'],\n",
    "            early_stopping=True,\n",
    "            verbose=1)\n",
    "nn.fit(X_train,y_train)\n",
    "print(f\"train error: {mean_squared_error(nn.predict(X_train),y_train)}\")\n",
    "print(f\"Test error: {mean_squared_error(nn.predict(X_test),y_test)}\")"
   ]
  },
  {
   "cell_type": "code",
   "execution_count": 366,
   "id": "fdd8555b",
   "metadata": {},
   "outputs": [
    {
     "data": {
      "image/png": "[encoded data removed]",
      "text/plain": [
       "<Figure size 800x600 with 2 Axes>"
      ]
     },
     "metadata": {},
     "output_type": "display_data"
    },
    {
     "name": "stdout",
     "output_type": "stream",
     "text": [
      "\n",
      "Accuracy: 0.47\n"
     ]
    }
   ],
   "source": [
    "pred = nn.predict(X_test) > 0.5\n",
    "pred.astype(int)\n",
    "\n",
    "cm = confusion_matrix(y_test, pred)\n",
    "\n",
    "plt.figure(figsize=(8, 6))\n",
    "sns.heatmap(cm, annot=True, fmt='d', cmap='Blues', xticklabels=['Predicted 0', 'Predicted 1'], yticklabels=['Actual 0', 'Actual 1'])\n",
    "plt.xlabel('Predicted')\n",
    "plt.ylabel('Actual')\n",
    "plt.title('Confusion Matrix')\n",
    "plt.show()\n",
    "\n",
    "accuracy = (cm[0, 0] + cm[1, 1]) / cm.sum()\n",
    "print(f'\\nAccuracy: {accuracy:.2f}')"
   ]
  },
  {
   "cell_type": "code",
   "execution_count": 226,
   "id": "191c2958",
   "metadata": {},
   "outputs": [
    {
     "data": {
      "image/png": "[encoded data removed]",
      "text/plain": [
       "<Figure size 500x300 with 1 Axes>"
      ]
     },
     "metadata": {},
     "output_type": "display_data"
    },
    {
     "data": {
      "image/png": "[encoded data removed]",
      "text/plain": [
       "<Figure size 500x300 with 1 Axes>"
      ]
     },
     "metadata": {},
     "output_type": "display_data"
    }
   ],
   "source": [
    "plot_TR_VAL(nn, title='MONK3 MSE', zoom_factor=0, curve='MSE', figsize=(5,3))\n",
    "plot_TR_VAL(nn, title='MONK3 Accuracy', zoom_factor=0, curve='accuracy', figsize=(5,3))"
   ]
  },
  {
   "cell_type": "markdown",
   "id": "ac58c0a9",
   "metadata": {},
   "source": [
    "## From the analysis conducted in \"Preprocessing & Analysis.ipynb\" we understood that the only 3 variables that determine the outcome of y are: x2, x4, x5"
   ]
  },
  {
   "cell_type": "code",
   "execution_count": 408,
   "id": "79ca88ec",
   "metadata": {
    "scrolled": true
   },
   "outputs": [],
   "source": [
    "df_train = df_train.drop(columns=['x1', 'x3', 'x6'])\n",
    "df_test = df_test.drop(columns=['x1', 'x3', 'x6'])\n",
    "\n",
    "X_train = df_train.iloc[:, 1:].to_numpy()\n",
    "y_train = df_train.iloc[:, 0:1].to_numpy()\n",
    "\n",
    "X_test = df_test.iloc[:, 1:].to_numpy()\n",
    "y_test = df_test.iloc[:, 0:1].to_numpy()\n",
    "\n",
    "encoder = OneHotEncoder(sparse=False)\n",
    "X_train = encoder.fit_transform(X_train)\n",
    "X_test = encoder.fit_transform(X_test)"
   ]
  },
  {
   "cell_type": "markdown",
   "id": "ce5ca5de",
   "metadata": {},
   "source": [
    "## Run the model on reduced training set"
   ]
  },
  {
   "cell_type": "code",
   "execution_count": 534,
   "id": "3f76b7c2",
   "metadata": {},
   "outputs": [
    {
     "name": "stdout",
     "output_type": "stream",
     "text": [
      "train error: 0.058271139729189826\n",
      "Test error: 0.041852175176347574\n",
      "train accuracy: 0.926605504587156\n"
     ]
    }
   ],
   "source": [
    "nn = Neural( [X_train.shape[1], 6, 4, y_train.shape[1]], \n",
    "            epochs = 128,\n",
    "            batch_size = 8,\n",
    "            learning_rate = 0.05,\n",
    "            hidden_function = 'sigmoid',\n",
    "            output_function = 'linear',\n",
    "            init_method = 'he',\n",
    "            momentum = 0.95,\n",
    "            momentum_schedule = False,\n",
    "            l2_lambda = 0.0,\n",
    "            early_stopping=True,\n",
    "            patience=5,\n",
    "            verbose=0)\n",
    "\n",
    "nn.fit(X_train,y_train)\n",
    "print(f\"train error: {mean_squared_error(nn.predict(X_train),y_train)}\")\n",
    "print(f\"Test error: {mean_squared_error(nn.predict(X_test),y_test)}\")\n",
    "\n",
    "print(f\"train accuracy: {nn.accuracy['train'][-1]}\")"
   ]
  },
  {
   "cell_type": "code",
   "execution_count": 535,
   "id": "2d4c382a",
   "metadata": {},
   "outputs": [
    {
     "data": {
      "image/png": "[encoded data removed]",
      "text/plain": [
       "<Figure size 800x600 with 2 Axes>"
      ]
     },
     "metadata": {},
     "output_type": "display_data"
    },
    {
     "name": "stdout",
     "output_type": "stream",
     "text": [
      "\n",
      "Accuracy on Test: 0.97\n"
     ]
    }
   ],
   "source": [
    "pred = nn.predict(X_test) > 0.5\n",
    "pred.astype(int)\n",
    "\n",
    "cm = confusion_matrix(y_test, pred)\n",
    "\n",
    "plt.figure(figsize=(8, 6))\n",
    "sns.heatmap(cm, annot=True, fmt='d', cmap='Blues', xticklabels=['Predicted 0', 'Predicted 1'], yticklabels=['Actual 0', 'Actual 1'])\n",
    "plt.xlabel('Predicted')\n",
    "plt.ylabel('Actual')\n",
    "plt.title('Confusion Matrix')\n",
    "plt.show()\n",
    "\n",
    "accuracy = (cm[0, 0] + cm[1, 1]) / cm.sum()\n",
    "print(f'\\nAccuracy on Test: {accuracy:.2f}')"
   ]
  },
  {
   "cell_type": "code",
   "execution_count": 536,
   "id": "768b8d51",
   "metadata": {},
   "outputs": [
    {
     "data": {
      "image/png": "[encoded data removed]",
      "text/plain": [
       "<Figure size 500x300 with 1 Axes>"
      ]
     },
     "metadata": {},
     "output_type": "display_data"
    },
    {
     "data": {
      "image/png": "[encoded data removed]",
      "text/plain": [
       "<Figure size 500x300 with 1 Axes>"
      ]
     },
     "metadata": {},
     "output_type": "display_data"
    }
   ],
   "source": [
    "plot_TR_VAL(nn, title='MONK3 MSE', zoom_factor=0, curve='MSE', figsize=(5,3))\n",
    "plot_TR_VAL(nn, title='MONK3 Accuracy', zoom_factor=0, curve='accuracy', figsize=(5,3))"
   ]
  },
  {
   "cell_type": "markdown",
   "id": "8f675839",
   "metadata": {},
   "source": [
    "### To have a more reliable estimate of the model, we perform several training"
   ]
  },
  {
   "cell_type": "code",
   "execution_count": 162,
   "id": "35345341",
   "metadata": {},
   "outputs": [
    {
     "name": "stdout",
     "output_type": "stream",
     "text": [
      "Mean Train Loss      Mean Test Loss       Std Train Loss       Std Test Loss       \n",
      "--------------------------------------------------------------------------------\n",
      "0.0003               0.0023               0.0001               0.0031              \n",
      "\n",
      "\n",
      "Mean Train Accuracy  Mean Test Accuracy   Std Train Accuracy   Std Test Accuracy   \n",
      "--------------------------------------------------------------------------------\n",
      "1.0000               0.9986               0.0000               0.0042              \n"
     ]
    }
   ],
   "source": [
    "# MONK 1\n",
    "train_and_evaluate(nn, X_train, y_train, X_test, y_test, n_iterations=10)"
   ]
  },
  {
   "cell_type": "code",
   "execution_count": 173,
   "id": "905cf547",
   "metadata": {},
   "outputs": [
    {
     "name": "stdout",
     "output_type": "stream",
     "text": [
      "Mean Train Loss      Mean Test Loss       Std Train Loss       Std Test Loss       \n",
      "--------------------------------------------------------------------------------\n",
      "0.0001               0.0002               0.0001               0.0001              \n",
      "\n",
      "\n",
      "Mean Train Accuracy  Mean Test Accuracy   Std Train Accuracy   Std Test Accuracy   \n",
      "--------------------------------------------------------------------------------\n",
      "1.0000               1.0000               0.0000               0.0000              \n"
     ]
    }
   ],
   "source": [
    "# MONK 2\n",
    "train_and_evaluate(nn, X_train, y_train, X_test, y_test, n_iterations=10)"
   ]
  },
  {
   "cell_type": "code",
   "execution_count": 528,
   "id": "b5981462",
   "metadata": {},
   "outputs": [
    {
     "name": "stdout",
     "output_type": "stream",
     "text": [
      "Mean Train Loss      Mean Test Loss       Std Train Loss       Std Test Loss       \n",
      "--------------------------------------------------------------------------------\n",
      "0.0499               0.0237               0.0055               0.0054              \n",
      "\n",
      "\n",
      "Mean Train Accuracy  Mean Test Accuracy   Std Train Accuracy   Std Test Accuracy   \n",
      "--------------------------------------------------------------------------------\n",
      "0.9393               0.9806               0.0075               0.0127              \n"
     ]
    }
   ],
   "source": [
    "# MONK 3\n",
    "train_and_evaluate(nn, X_train, y_train, X_test, y_test, n_iterations=10)"
   ]
  },
  {
   "cell_type": "markdown",
   "id": "0664275d",
   "metadata": {},
   "source": [
    "## MODEL FOUND FOR EACH MONK TASK"
   ]
  },
  {
   "cell_type": "markdown",
   "id": "6d3eae39",
   "metadata": {},
   "source": [
    "### MONK 1"
   ]
  },
  {
   "cell_type": "markdown",
   "id": "e32e72a0",
   "metadata": {},
   "source": [
    " {'layer_structure': [17, 6, 4, 1],\n",
    "  'epochs': 128,\n",
    "  'batch_size': 8,\n",
    "  'learning_rate': 0.05,\n",
    "  'momentum': 0.95,\n",
    "  'momentum_schedule': False,\n",
    "  'l2_lambda': 0.001,\n",
    "  'output_function': 'linear',\n",
    "  'hidden_function': 'tanh',\n",
    "  'init_method': 'he',\n",
    "  'optimizer': 'nesterov',\n",
    "  'early_stopping': True}"
   ]
  },
  {
   "cell_type": "markdown",
   "id": "ddc23094",
   "metadata": {},
   "source": [
    "### MONK 2"
   ]
  },
  {
   "cell_type": "markdown",
   "id": "c0a59ec4",
   "metadata": {},
   "source": [
    "{'layer_structure': [17, 6, 4, 1],\n",
    "  'epochs': 128,\n",
    "  'batch_size': 4,\n",
    "  'learning_rate': 0.05,\n",
    "  'momentum': 0.9,\n",
    "  'momentum_schedule': False,\n",
    "  'l2_lambda': 0,\n",
    "  'output_function': 'linear',\n",
    "  'hidden_function': 'tanh',\n",
    "  'init_method': 'he',\n",
    "  'optimizer': 'nesterov',\n",
    "  'early_stopping': True}"
   ]
  },
  {
   "cell_type": "markdown",
   "id": "74dbeaa4",
   "metadata": {},
   "source": [
    "### MONK 3"
   ]
  },
  {
   "cell_type": "markdown",
   "id": "8764143d",
   "metadata": {},
   "source": [
    "{'layer_structure': [17, 6, 4, 1],\n",
    "  'epochs': 128,\n",
    "  'batch_size': 8,\n",
    "  'learning_rate': 0.05,\n",
    "  'momentum': 0.95,\n",
    "  'momentum_schedule': False,\n",
    "  'l2_lambda': 0,\n",
    "  'output_function': 'linear',\n",
    "  'hidden_function': 'sigmoid',\n",
    "  'init_method': 'he',\n",
    "  'optimizer': 'nesterov',\n",
    "  'early_stopping': True}"
   ]
  }
 ],
 "metadata": {
  "kernelspec": {
   "display_name": "Python 3 (ipykernel)",
   "language": "python",
   "name": "python3"
  },
  "language_info": {
   "codemirror_mode": {
    "name": "ipython",
    "version": 3
   },
   "file_extension": ".py",
   "mimetype": "text/x-python",
   "name": "python",
   "nbconvert_exporter": "python",
   "pygments_lexer": "ipython3",
   "version": "3.10.10"
  }
 },
 "nbformat": 4,
 "nbformat_minor": 5
}
